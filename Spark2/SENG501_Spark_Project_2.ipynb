{
 "cells": [
  {
   "cell_type": "markdown",
   "metadata": {},
   "source": [
    "# ![Spark Logo](http://spark-mooc.github.io/web-assets/images/ta_Spark-logo-small.png) + ![Python Logo](http://spark-mooc.github.io/web-assets/images/python-logo-master-v3-TM-flattened_small.png)\n",
    "# **Linear Regression Lab**\n",
    "#### This lab covers a common supervised learning pipeline, using a subset of the Deerfoot Trail data introduced in a previous lab. Our goal is to train a linear regression model to predict Deerfoot commute times given weather and accident conditions\n",
    "#### ** This lab will cover: **\n",
    "   #### *Part 1:* Read and parse the initial dataset\n",
    "   #### *Part 2:* Create and evaluate a baseline model\n",
    "   #### *Part 3:* Train and evaluate a linear regression model\n",
    "   #### *Part 5:* Add higher order behaviour and interactions between features\n",
    " \n",
    "#### Note that, for reference, you can look up the details of the relevant Spark methods in [Spark's Python API](https://spark.apache.org/docs/latest/api/python/pyspark.html#pyspark.RDD) and the relevant NumPy methods in the [NumPy Reference](http://docs.scipy.org/doc/numpy/reference/index.html)"
   ]
  },
  {
   "cell_type": "code",
   "execution_count": 2,
   "metadata": {
    "collapsed": true
   },
   "outputs": [
    {
     "data": {
      "text/html": [
       "<style scoped>\n",
       "  .ansiout {\n",
       "    display: block;\n",
       "    unicode-bidi: embed;\n",
       "    white-space: pre-wrap;\n",
       "    word-wrap: break-word;\n",
       "    word-break: break-all;\n",
       "    font-family: \"Source Code Pro\", \"Menlo\", monospace;;\n",
       "    font-size: 13px;\n",
       "    color: #555;\n",
       "    margin-left: 4px;\n",
       "    line-height: 19px;\n",
       "  }\n",
       "</style>\n",
       "<div class=\"ansiout\"></div>"
      ]
     },
     "metadata": {},
     "output_type": "display_data"
    }
   ],
   "source": [
    "from pyspark import SparkContext\n",
    "sc = SparkContext.getOrCreate()"
   ]
  },
  {
   "cell_type": "markdown",
   "metadata": {},
   "source": [
    "### ** Part 1: Read and parse the initial dataset **"
   ]
  },
  {
   "cell_type": "markdown",
   "metadata": {},
   "source": [
    "#### ** (1a) Load and check the data **\n",
    "#### The raw data is currently stored in 3 text files.  Commute time data is stored in one of these files. This is the same file you used in a previous lab.  Weather data for the duration of the commute time dataset is stored in 2 separate files - one for 2013 and one for 2014.  This data was obtained from Environment Canada.  We will start by storing the commute time data in a RDD and the weather data in 2 separate RDDs.  Each element of these RDDs is a comma separated string.  Use the [count method](https://spark.apache.org/docs/latest/api/python/pyspark.html#pyspark.RDD.count) to check how many data points/lines we have in each of the RDDs.  Then use the [take method](https://spark.apache.org/docs/latest/api/python/pyspark.html#pyspark.RDD.take) to create and print out a list of the first 2 data points in their initial string format from the commute time RDD and first 15 lines from each of the weather RDDs."
   ]
  },
  {
   "cell_type": "code",
   "execution_count": 5,
   "metadata": {},
   "outputs": [
    {
     "data": {
      "text/html": [
       "<style scoped>\n",
       "  .ansiout {\n",
       "    display: block;\n",
       "    unicode-bidi: embed;\n",
       "    white-space: pre-wrap;\n",
       "    word-wrap: break-word;\n",
       "    word-break: break-all;\n",
       "    font-family: \"Source Code Pro\", \"Menlo\", monospace;;\n",
       "    font-size: 13px;\n",
       "    color: #555;\n",
       "    margin-left: 4px;\n",
       "    line-height: 19px;\n",
       "  }\n",
       "</style>\n",
       "<div class=\"ansiout\"></div>"
      ]
     },
     "metadata": {},
     "output_type": "display_data"
    }
   ],
   "source": [
    "fileName1 = '/FileStore/tables/deerfoot_part2_1-a89f2.csv'\n",
    "fileName2 = '/FileStore/tables/eng_daily_01012013_12312013-cb7a0.csv'\n",
    "fileName3 = '/FileStore/tables/eng_daily_01012014_12312014-06100.csv'\n",
    "deerfootRDD = (sc.textFile(fileName1, 8))\n",
    "weather2013RDD = sc.textFile(fileName2,8)\n",
    "weather2014RDD = sc.textFile(fileName3,8)\n"
   ]
  },
  {
   "cell_type": "code",
   "execution_count": 6,
   "metadata": {},
   "outputs": [
    {
     "data": {
      "text/html": [
       "<style scoped>\n",
       "  .ansiout {\n",
       "    display: block;\n",
       "    unicode-bidi: embed;\n",
       "    white-space: pre-wrap;\n",
       "    word-wrap: break-word;\n",
       "    word-break: break-all;\n",
       "    font-family: \"Source Code Pro\", \"Menlo\", monospace;;\n",
       "    font-size: 13px;\n",
       "    color: #555;\n",
       "    margin-left: 4px;\n",
       "    line-height: 19px;\n",
       "  }\n",
       "</style>\n",
       "<div class=\"ansiout\">202\n",
       "[u&apos;21/09/2013,Saturday,34,34,34,34,35,34,35,36,38,36,36,35,35,35,35,35,36,34,34,0,0,0,2,0,0,0,0,0,0,0,0,0,0,0,0,0,0,0,0,0,0,0,2,0,2&apos;, u&apos;22/09/2013,Sunday,34,34,34,34,34,34,34,35,35,35,34,35,34,35,34,34,34,34,34,0,0,0,1,0,0,0,1,1,0,0,0,0,0,0,0,0,0,0,0,0,0,0,0,0,3&apos;]\n",
       "391\n",
       "391\n",
       "[u&apos;&quot;Station Name&quot;,&quot;CALGARY INTL A&quot;&apos;, u&apos;&quot;Province&quot;,&quot;ALBERTA&quot;&apos;, u&apos;&quot;Latitude&quot;,&quot;51.12&quot;&apos;, u&apos;&quot;Longitude&quot;,&quot;-114.01&quot;&apos;, u&apos;&quot;Elevation&quot;,&quot;1099.10&quot;&apos;, u&apos;&quot;Climate Identifier&quot;,&quot;3031092&quot;&apos;, u&apos;&quot;WMO Identifier&quot;,&quot;71877&quot;&apos;, u&apos;&quot;TC Identifier&quot;,&quot;YYC&quot;&apos;, u&apos;&apos;, u&apos;&quot;Legend&quot;&apos;, u&apos;&quot;A&quot;,&quot;Accumulated&quot;&apos;, u&apos;&quot;C&quot;,&quot;Precipitation occurred, amount uncertain&quot;&apos;, u&apos;&quot;E&quot;,&quot;Estimated&quot;&apos;, u&apos;&quot;F&quot;,&quot;Accumulated and estimated&quot;&apos;, u&apos;&quot;L&quot;,&quot;Precipitation may or may not have occurred&quot;&apos;]\n",
       "[u&apos;&quot;Station Name&quot;,&quot;CALGARY INTL A&quot;&apos;, u&apos;&quot;Province&quot;,&quot;ALBERTA&quot;&apos;, u&apos;&quot;Latitude&quot;,&quot;51.12&quot;&apos;, u&apos;&quot;Longitude&quot;,&quot;-114.01&quot;&apos;, u&apos;&quot;Elevation&quot;,&quot;1099.10&quot;&apos;, u&apos;&quot;Climate Identifier&quot;,&quot;3031092&quot;&apos;, u&apos;&quot;WMO Identifier&quot;,&quot;71877&quot;&apos;, u&apos;&quot;TC Identifier&quot;,&quot;YYC&quot;&apos;, u&apos;&apos;, u&apos;&quot;Legend&quot;&apos;, u&apos;&quot;A&quot;,&quot;Accumulated&quot;&apos;, u&apos;&quot;C&quot;,&quot;Precipitation occurred, amount uncertain&quot;&apos;, u&apos;&quot;E&quot;,&quot;Estimated&quot;&apos;, u&apos;&quot;F&quot;,&quot;Accumulated and estimated&quot;&apos;, u&apos;&quot;L&quot;,&quot;Precipitation may or may not have occurred&quot;&apos;]\n",
       "</div>"
      ]
     },
     "metadata": {},
     "output_type": "display_data"
    }
   ],
   "source": [
    "# TODO: Replace <FILL IN> with appropriate code\n",
    "numPoints = deerfootRDD.count()\n",
    "print numPoints\n",
    "samplePoints = deerfootRDD.take(2)\n",
    "print samplePoints\n",
    "num2013WeatherLines = weather2013RDD.count()\n",
    "num2014WeatherLines = weather2014RDD.count()\n",
    "print num2013WeatherLines\n",
    "print num2014WeatherLines\n",
    "sample2013WeatherLines = weather2013RDD.take(15)\n",
    "sample2014WeatherLines = weather2014RDD.take(15)\n",
    "print sample2013WeatherLines\n",
    "print sample2014WeatherLines"
   ]
  },
  {
   "cell_type": "markdown",
   "metadata": {},
   "source": [
    "#### ** (1b) Preprocessing RDDs - extracting desired fields from commute time data **\n",
    "#### We need to pre-process the RDDs before we can use them for training a regression model.  For this exercise, we will consider predicting the commute time at 5 PM in the evening when traffic is typically heavy.  As a result we won't be using all the fields in the 'deerfootRDD'.  Specifically, we will only be using the following fields - Date (field0), Day(field1), Commute Time at 5 PM (field15), and Total number of accidents (field46).  Use a Spark transformation to create a new pairRDD whose key is the Date and whose value is the tuple (Day, Commute Time at 5 PM, Total number of accidents). You need to use the function 'extractFields' to achieve this.  Print the first 2 elements of the resulting pairRDD as a check to see if you extracted the correct fields., `u'split,me'.split(',')` returns `[u'split', u'me']`."
   ]
  },
  {
   "cell_type": "code",
   "execution_count": 8,
   "metadata": {
    "scrolled": true
   },
   "outputs": [
    {
     "data": {
      "text/html": [
       "<style scoped>\n",
       "  .ansiout {\n",
       "    display: block;\n",
       "    unicode-bidi: embed;\n",
       "    white-space: pre-wrap;\n",
       "    word-wrap: break-word;\n",
       "    word-break: break-all;\n",
       "    font-family: \"Source Code Pro\", \"Menlo\", monospace;;\n",
       "    font-size: 13px;\n",
       "    color: #555;\n",
       "    margin-left: 4px;\n",
       "    line-height: 19px;\n",
       "  }\n",
       "</style>\n",
       "<div class=\"ansiout\">[(&apos;21/09/2013&apos;, [&apos;Saturday&apos;, &apos;35&apos;, &apos;2&apos;])]\n",
       "</div>"
      ]
     },
     "metadata": {},
     "output_type": "display_data"
    }
   ],
   "source": [
    "# TODO: Replace <FILL IN> with appropriate code\n",
    "def extractFields(deerfootRDDRecord):\n",
    "    \"\"\"Creates a key-value pair consisting of the Date field as the key and the the tuple (Day,Commute Time at 5 PM, Total number of Accidents) as the value\n",
    "\n",
    "    Args:\n",
    "        deerfootRDDRecord : a comma separated string consisting of all fields in the data set.\n",
    "\n",
    "    Returns:\n",
    "        extracted record: key-value pair as detailed above\n",
    "    \"\"\"\n",
    "    fieldsList = deerfootRDDRecord.split(',')\n",
    "    kvp = (fieldsList[0].encode('utf-8'), [fieldsList[1].encode('utf-8'), fieldsList[15].encode('utf-8'), fieldsList[46].encode('utf-8')])\n",
    "    return kvp\n",
    "deerfootPairRDD = deerfootRDD.map(extractFields)\n",
    "print(deerfootPairRDD.take(1))"
   ]
  },
  {
   "cell_type": "markdown",
   "metadata": {},
   "source": [
    "#### ** (1c) Preprocessing RDDs - extracting desired lines from weather data **\n",
    "#### If you notice the output of the weather files the first few lines don't contain the data - they contain metadata and column labels.  These need to be removed.  Use a Spark transformation to discard unwanted metadata and header information.  Hint: You can see whether a unicode string string1 contains another string in variable string2 using 'u'string1' in string2'"
   ]
  },
  {
   "cell_type": "code",
   "execution_count": 10,
   "metadata": {
    "scrolled": true
   },
   "outputs": [
    {
     "data": {
      "text/html": [
       "<style scoped>\n",
       "  .ansiout {\n",
       "    display: block;\n",
       "    unicode-bidi: embed;\n",
       "    white-space: pre-wrap;\n",
       "    word-wrap: break-word;\n",
       "    word-break: break-all;\n",
       "    font-family: \"Source Code Pro\", \"Menlo\", monospace;;\n",
       "    font-size: 13px;\n",
       "    color: #555;\n",
       "    margin-left: 4px;\n",
       "    line-height: 19px;\n",
       "  }\n",
       "</style>\n",
       "<div class=\"ansiout\">[u&apos;&quot;2013-01-01&quot;,&quot;2013&quot;,&quot;01&quot;,&quot;01&quot;,&quot;\\ufffd&quot;,&quot;1.2&quot;,&quot;&quot;,&quot;-8.9&quot;,&quot;&quot;,&quot;-3.9&quot;,&quot;&quot;,&quot;21.9&quot;,&quot;&quot;,&quot;0.0&quot;,&quot;&quot;,&quot;0.0&quot;,&quot;T&quot;,&quot;0.0&quot;,&quot;&quot;,&quot;0.0&quot;,&quot;T&quot;,&quot;4&quot;,&quot;&quot;,&quot;33&quot;,&quot;&quot;,&quot;48&quot;,&quot;&quot;&apos;, u&apos;&quot;2013-01-02&quot;,&quot;2013&quot;,&quot;01&quot;,&quot;02&quot;,&quot;\\ufffd&quot;,&quot;5.8&quot;,&quot;&quot;,&quot;-10.9&quot;,&quot;&quot;,&quot;-2.6&quot;,&quot;&quot;,&quot;20.6&quot;,&quot;&quot;,&quot;0.0&quot;,&quot;&quot;,&quot;0.0&quot;,&quot;&quot;,&quot;0.0&quot;,&quot;&quot;,&quot;0.0&quot;,&quot;&quot;,&quot;3&quot;,&quot;&quot;,&quot;29&quot;,&quot;&quot;,&quot;41&quot;,&quot;&quot;&apos;, u&apos;&quot;2013-01-03&quot;,&quot;2013&quot;,&quot;01&quot;,&quot;03&quot;,&quot;\\ufffd&quot;,&quot;8.8&quot;,&quot;&quot;,&quot;-8.8&quot;,&quot;&quot;,&quot;0.0&quot;,&quot;&quot;,&quot;18.0&quot;,&quot;&quot;,&quot;0.0&quot;,&quot;&quot;,&quot;0.0&quot;,&quot;&quot;,&quot;0.0&quot;,&quot;&quot;,&quot;0.0&quot;,&quot;&quot;,&quot;2&quot;,&quot;&quot;,&quot;28&quot;,&quot;&quot;,&quot;52&quot;,&quot;&quot;&apos;, u&apos;&quot;2013-01-04&quot;,&quot;2013&quot;,&quot;01&quot;,&quot;04&quot;,&quot;\\ufffd&quot;,&quot;2.9&quot;,&quot;&quot;,&quot;-11.2&quot;,&quot;&quot;,&quot;-4.2&quot;,&quot;&quot;,&quot;22.2&quot;,&quot;&quot;,&quot;0.0&quot;,&quot;&quot;,&quot;0.0&quot;,&quot;&quot;,&quot;0.0&quot;,&quot;&quot;,&quot;0.0&quot;,&quot;&quot;,&quot;2&quot;,&quot;&quot;,&quot;26&quot;,&quot;&quot;,&quot;63&quot;,&quot;&quot;&apos;, u&apos;&quot;2013-01-05&quot;,&quot;2013&quot;,&quot;01&quot;,&quot;05&quot;,&quot;\\ufffd&quot;,&quot;4.8&quot;,&quot;&quot;,&quot;-10.0&quot;,&quot;&quot;,&quot;-2.6&quot;,&quot;&quot;,&quot;20.6&quot;,&quot;&quot;,&quot;0.0&quot;,&quot;&quot;,&quot;0.0&quot;,&quot;&quot;,&quot;0.0&quot;,&quot;&quot;,&quot;0.0&quot;,&quot;&quot;,&quot;1&quot;,&quot;&quot;,&quot;27&quot;,&quot;&quot;,&quot;41&quot;,&quot;&quot;&apos;]\n",
       "[u&apos;&quot;2014-01-01&quot;,&quot;2014&quot;,&quot;01&quot;,&quot;01&quot;,&quot;\\ufffd&quot;,&quot;-0.6&quot;,&quot;&quot;,&quot;-9.7&quot;,&quot;&quot;,&quot;-5.2&quot;,&quot;&quot;,&quot;23.2&quot;,&quot;&quot;,&quot;0.0&quot;,&quot;&quot;,&quot;0.0&quot;,&quot;&quot;,&quot;1.0&quot;,&quot;&quot;,&quot;0.8&quot;,&quot;&quot;,&quot;9&quot;,&quot;&quot;,&quot;&quot;,&quot;&quot;,&quot;&lt;31&quot;,&quot;&quot;&apos;, u&apos;&quot;2014-01-02&quot;,&quot;2014&quot;,&quot;01&quot;,&quot;02&quot;,&quot;\\ufffd&quot;,&quot;8.5&quot;,&quot;&quot;,&quot;-10.0&quot;,&quot;&quot;,&quot;-0.8&quot;,&quot;&quot;,&quot;18.8&quot;,&quot;&quot;,&quot;0.0&quot;,&quot;&quot;,&quot;0.0&quot;,&quot;&quot;,&quot;0.0&quot;,&quot;&quot;,&quot;0.0&quot;,&quot;&quot;,&quot;11&quot;,&quot;&quot;,&quot;27&quot;,&quot;&quot;,&quot;52&quot;,&quot;&quot;&apos;, u&apos;&quot;2014-01-03&quot;,&quot;2014&quot;,&quot;01&quot;,&quot;03&quot;,&quot;\\ufffd&quot;,&quot;3.0&quot;,&quot;&quot;,&quot;-11.0&quot;,&quot;&quot;,&quot;-4.0&quot;,&quot;&quot;,&quot;22.0&quot;,&quot;&quot;,&quot;0.0&quot;,&quot;&quot;,&quot;0.0&quot;,&quot;&quot;,&quot;7.8&quot;,&quot;&quot;,&quot;5.8&quot;,&quot;&quot;,&quot;8&quot;,&quot;&quot;,&quot;36&quot;,&quot;&quot;,&quot;54&quot;,&quot;&quot;&apos;, u&apos;&quot;2014-01-04&quot;,&quot;2014&quot;,&quot;01&quot;,&quot;04&quot;,&quot;\\ufffd&quot;,&quot;-11.0&quot;,&quot;&quot;,&quot;-21.9&quot;,&quot;&quot;,&quot;-16.5&quot;,&quot;&quot;,&quot;34.5&quot;,&quot;&quot;,&quot;0.0&quot;,&quot;&quot;,&quot;0.0&quot;,&quot;&quot;,&quot;1.0&quot;,&quot;&quot;,&quot;0.2&quot;,&quot;&quot;,&quot;14&quot;,&quot;&quot;,&quot;35&quot;,&quot;&quot;,&quot;44&quot;,&quot;&quot;&apos;, u&apos;&quot;2014-01-05&quot;,&quot;2014&quot;,&quot;01&quot;,&quot;05&quot;,&quot;\\ufffd&quot;,&quot;-14.4&quot;,&quot;&quot;,&quot;-25.5&quot;,&quot;&quot;,&quot;-20.0&quot;,&quot;&quot;,&quot;38.0&quot;,&quot;&quot;,&quot;0.0&quot;,&quot;&quot;,&quot;0.0&quot;,&quot;T&quot;,&quot;0.0&quot;,&quot;&quot;,&quot;0.0&quot;,&quot;T&quot;,&quot;14&quot;,&quot;&quot;,&quot;36&quot;,&quot;&quot;,&quot;52&quot;,&quot;&quot;&apos;]\n",
       "</div>"
      ]
     },
     "metadata": {},
     "output_type": "display_data"
    }
   ],
   "source": [
    "# TODO: Replace <FILL IN> with appropriate code\n",
    "def filterLines(weatherRDDRecord):\n",
    "    \"\"\" Skips lines with metadata and label information\n",
    "    Args:\n",
    "        weatherRDDRecord : a line from the weather file.\n",
    "\n",
    "    Returns:\n",
    "        True - if line is not metadata/label; False otherwise\n",
    "    \"\"\"\n",
    "    fieldsList = weatherRDDRecord.split(',')\n",
    "    if len(fieldsList) == 27 and fieldsList[0] != '\"Date/Time\"':\n",
    "        return True\n",
    "    else:\n",
    "        return False\n",
    "\n",
    "filteredWeather2013RDD = weather2013RDD.filter(filterLines)\n",
    "filteredWeather2014RDD = weather2014RDD.filter(filterLines)\n",
    "print (filteredWeather2013RDD.take(5))\n",
    "print (filteredWeather2014RDD.take(5))"
   ]
  },
  {
   "cell_type": "markdown",
   "metadata": {},
   "source": [
    "#### ** (1d) Preprocessing RDDs - Fixing date format inconsistency**\n",
    "#### If you compare the Date fields of the commute time and weather files you will notice that they are in different formats.  While the date in the commute time file is in the format \"day/month/year\" it is in the format \"year-month-day\".  We need to fix things so that the weather data has the same date format as the commute time data. (It is very typical to deal with such annoyances while developing models from different data sources). Use a Spark transformation that constructs a pairRDD whose key is the date and whose value is a tuple containing the rest of the columns of the weather data.  Note, you need to construct 2 pairRDDs, one for 2013 and another for 2014.  Also, as mentioned previously, you need to fix the date formatting such that it matches the formatting in the commute time data."
   ]
  },
  {
   "cell_type": "code",
   "execution_count": 12,
   "metadata": {
    "scrolled": false
   },
   "outputs": [
    {
     "data": {
      "text/html": [
       "<style scoped>\n",
       "  .ansiout {\n",
       "    display: block;\n",
       "    unicode-bidi: embed;\n",
       "    white-space: pre-wrap;\n",
       "    word-wrap: break-word;\n",
       "    word-break: break-all;\n",
       "    font-family: \"Source Code Pro\", \"Menlo\", monospace;;\n",
       "    font-size: 13px;\n",
       "    color: #555;\n",
       "    margin-left: 4px;\n",
       "    line-height: 19px;\n",
       "  }\n",
       "</style>\n",
       "<div class=\"ansiout\">[(u&apos;01/01/2013&apos;, [u&apos;&quot;2013&quot;&apos;, u&apos;&quot;01&quot;&apos;, u&apos;&quot;01&quot;&apos;, u&apos;&quot;\\ufffd&quot;&apos;, u&apos;&quot;1.2&quot;&apos;, u&apos;&quot;&quot;&apos;, u&apos;&quot;-8.9&quot;&apos;, u&apos;&quot;&quot;&apos;, u&apos;&quot;-3.9&quot;&apos;, u&apos;&quot;&quot;&apos;, u&apos;&quot;21.9&quot;&apos;, u&apos;&quot;&quot;&apos;, u&apos;&quot;0.0&quot;&apos;, u&apos;&quot;&quot;&apos;, u&apos;&quot;0.0&quot;&apos;, u&apos;&quot;T&quot;&apos;, u&apos;&quot;0.0&quot;&apos;, u&apos;&quot;&quot;&apos;, u&apos;&quot;0.0&quot;&apos;, u&apos;&quot;T&quot;&apos;, u&apos;&quot;4&quot;&apos;, u&apos;&quot;&quot;&apos;, u&apos;&quot;33&quot;&apos;, u&apos;&quot;&quot;&apos;, u&apos;&quot;48&quot;&apos;, u&apos;&quot;&quot;&apos;]), (u&apos;02/01/2013&apos;, [u&apos;&quot;2013&quot;&apos;, u&apos;&quot;01&quot;&apos;, u&apos;&quot;02&quot;&apos;, u&apos;&quot;\\ufffd&quot;&apos;, u&apos;&quot;5.8&quot;&apos;, u&apos;&quot;&quot;&apos;, u&apos;&quot;-10.9&quot;&apos;, u&apos;&quot;&quot;&apos;, u&apos;&quot;-2.6&quot;&apos;, u&apos;&quot;&quot;&apos;, u&apos;&quot;20.6&quot;&apos;, u&apos;&quot;&quot;&apos;, u&apos;&quot;0.0&quot;&apos;, u&apos;&quot;&quot;&apos;, u&apos;&quot;0.0&quot;&apos;, u&apos;&quot;&quot;&apos;, u&apos;&quot;0.0&quot;&apos;, u&apos;&quot;&quot;&apos;, u&apos;&quot;0.0&quot;&apos;, u&apos;&quot;&quot;&apos;, u&apos;&quot;3&quot;&apos;, u&apos;&quot;&quot;&apos;, u&apos;&quot;29&quot;&apos;, u&apos;&quot;&quot;&apos;, u&apos;&quot;41&quot;&apos;, u&apos;&quot;&quot;&apos;])]\n",
       "[(u&apos;01/01/2014&apos;, [u&apos;&quot;2014&quot;&apos;, u&apos;&quot;01&quot;&apos;, u&apos;&quot;01&quot;&apos;, u&apos;&quot;\\ufffd&quot;&apos;, u&apos;&quot;-0.6&quot;&apos;, u&apos;&quot;&quot;&apos;, u&apos;&quot;-9.7&quot;&apos;, u&apos;&quot;&quot;&apos;, u&apos;&quot;-5.2&quot;&apos;, u&apos;&quot;&quot;&apos;, u&apos;&quot;23.2&quot;&apos;, u&apos;&quot;&quot;&apos;, u&apos;&quot;0.0&quot;&apos;, u&apos;&quot;&quot;&apos;, u&apos;&quot;0.0&quot;&apos;, u&apos;&quot;&quot;&apos;, u&apos;&quot;1.0&quot;&apos;, u&apos;&quot;&quot;&apos;, u&apos;&quot;0.8&quot;&apos;, u&apos;&quot;&quot;&apos;, u&apos;&quot;9&quot;&apos;, u&apos;&quot;&quot;&apos;, u&apos;&quot;&quot;&apos;, u&apos;&quot;&quot;&apos;, u&apos;&quot;&lt;31&quot;&apos;, u&apos;&quot;&quot;&apos;]), (u&apos;02/01/2014&apos;, [u&apos;&quot;2014&quot;&apos;, u&apos;&quot;01&quot;&apos;, u&apos;&quot;02&quot;&apos;, u&apos;&quot;\\ufffd&quot;&apos;, u&apos;&quot;8.5&quot;&apos;, u&apos;&quot;&quot;&apos;, u&apos;&quot;-10.0&quot;&apos;, u&apos;&quot;&quot;&apos;, u&apos;&quot;-0.8&quot;&apos;, u&apos;&quot;&quot;&apos;, u&apos;&quot;18.8&quot;&apos;, u&apos;&quot;&quot;&apos;, u&apos;&quot;0.0&quot;&apos;, u&apos;&quot;&quot;&apos;, u&apos;&quot;0.0&quot;&apos;, u&apos;&quot;&quot;&apos;, u&apos;&quot;0.0&quot;&apos;, u&apos;&quot;&quot;&apos;, u&apos;&quot;0.0&quot;&apos;, u&apos;&quot;&quot;&apos;, u&apos;&quot;11&quot;&apos;, u&apos;&quot;&quot;&apos;, u&apos;&quot;27&quot;&apos;, u&apos;&quot;&quot;&apos;, u&apos;&quot;52&quot;&apos;, u&apos;&quot;&quot;&apos;])]\n",
       "</div>"
      ]
     },
     "metadata": {},
     "output_type": "display_data"
    }
   ],
   "source": [
    "# TODO: Replace <FILL IN> with appropriate code\n",
    "def fixDate(weatherRDDRecord):\n",
    "    \"\"\"Creates a key-value pair - key is date in format 'day/month/year' value - a comma separated string containing other fields of the record\n",
    "    Args:\n",
    "        weatherRDDRecord : a comma separated string consisting of all fields in the weather data set.\n",
    "\n",
    "    Returns:\n",
    "        extracted record: key-value pair as detailed above\n",
    "    \"\"\"\n",
    "    fieldList = weatherRDDRecord.split(',')\n",
    "    year,month,day = fieldList[1].strip('\"'), fieldList[2].strip('\"'), fieldList[3].strip('\"')\n",
    "    return ('/'.join([day,month,year]), fieldList[1:])\n",
    "   \n",
    "fixedWeather2013RDD = filteredWeather2013RDD.map(fixDate)\n",
    "fixedWeather2014RDD = filteredWeather2014RDD.map(fixDate)\n",
    "print (fixedWeather2013RDD.take(2))\n",
    "print (fixedWeather2014RDD.take(2))"
   ]
  },
  {
   "cell_type": "markdown",
   "metadata": {},
   "source": [
    "#### ** (1e) Extracting the desired days from weather data**\n",
    "#### commute times have been recorded for the period September 21, 2013 to April 10, 2014.  We need to consider only the weather data for this period while building the linear regression model.  Use a Spark transformation to append the 'fixedWeather2014' RDD to the 'fixedWeather2013' RDD to create a new RDD.  Then, use another Spark transformation to filter out days before September 21, 2013 and days after April 10, 2014."
   ]
  },
  {
   "cell_type": "code",
   "execution_count": 14,
   "metadata": {
    "scrolled": false
   },
   "outputs": [
    {
     "data": {
      "text/html": [
       "<style scoped>\n",
       "  .ansiout {\n",
       "    display: block;\n",
       "    unicode-bidi: embed;\n",
       "    white-space: pre-wrap;\n",
       "    word-wrap: break-word;\n",
       "    word-break: break-all;\n",
       "    font-family: \"Source Code Pro\", \"Menlo\", monospace;;\n",
       "    font-size: 13px;\n",
       "    color: #555;\n",
       "    margin-left: 4px;\n",
       "    line-height: 19px;\n",
       "  }\n",
       "</style>\n",
       "<div class=\"ansiout\">730\n",
       "[(u&apos;21/09/2013&apos;, [u&apos;&quot;2013&quot;&apos;, u&apos;&quot;09&quot;&apos;, u&apos;&quot;21&quot;&apos;, u&apos;&quot;\\ufffd&quot;&apos;, u&apos;&quot;24.0&quot;&apos;, u&apos;&quot;&quot;&apos;, u&apos;&quot;5.5&quot;&apos;, u&apos;&quot;&quot;&apos;, u&apos;&quot;14.8&quot;&apos;, u&apos;&quot;&quot;&apos;, u&apos;&quot;3.2&quot;&apos;, u&apos;&quot;&quot;&apos;, u&apos;&quot;0.0&quot;&apos;, u&apos;&quot;&quot;&apos;, u&apos;&quot;0.0&quot;&apos;, u&apos;&quot;&quot;&apos;, u&apos;&quot;0.0&quot;&apos;, u&apos;&quot;&quot;&apos;, u&apos;&quot;0.0&quot;&apos;, u&apos;&quot;&quot;&apos;, u&apos;&quot;&quot;&apos;, u&apos;&quot;&quot;&apos;, u&apos;&quot;21&quot;&apos;, u&apos;&quot;&quot;&apos;, u&apos;&quot;63&quot;&apos;, u&apos;&quot;&quot;&apos;])]\n",
       "</div>"
      ]
     },
     "metadata": {},
     "output_type": "display_data"
    }
   ],
   "source": [
    "# TODO: Replace <FILL IN> with appropriate code\n",
    "from datetime import datetime\n",
    "def filterDates(weatherRDDRecord):\n",
    "    \"\"\"Skips records before September 21, 2013 and after April 10, 2014\n",
    "    Args:\n",
    "        weatherRDDRecord : key-value record where key is date and value is comma separated string of other weather fields\n",
    "\n",
    "    Returns:\n",
    "        True if key is in the desired period; False otherwise\n",
    "    \"\"\"\n",
    "    date = weatherRDDRecord[0].split('/')\n",
    "    day = int(date[0].strip('\"'))\n",
    "    month = int(date[1].strip('\"'))\n",
    "    year = int(date[2].strip('\"'))\n",
    "    lowerbound = datetime(2013, 9, 21)\n",
    "    upperbound = datetime(2014, 4, 10)\n",
    "    dateToCheck = datetime(year, month, day)\n",
    "    \n",
    "    if dateToCheck >= lowerbound and dateToCheck <= upperbound:\n",
    "      return True\n",
    "    \n",
    "    return False\n",
    "\n",
    "aggregateWeatherRDD = fixedWeather2013RDD.union(fixedWeather2014RDD)\n",
    "print aggregateWeatherRDD.count()\n",
    "desiredWeatherRDD = aggregateWeatherRDD.filter(filterDates)\n",
    "print desiredWeatherRDD.take(1)"
   ]
  },
  {
   "cell_type": "markdown",
   "metadata": {},
   "source": [
    "#### ** (1e) Merging commute time and weather data**\n",
    "#### We have to merge the commute time RDD 'deerfootPairRDD' and the weather RDD 'desiredWeatherRDD'.  Use an appropriate Spark transformation that uses the common key date key in both RDDs.  Print the number of elements and the first 5 elements of the resulting RDD."
   ]
  },
  {
   "cell_type": "code",
   "execution_count": 16,
   "metadata": {
    "scrolled": false
   },
   "outputs": [
    {
     "data": {
      "text/html": [
       "<style scoped>\n",
       "  .ansiout {\n",
       "    display: block;\n",
       "    unicode-bidi: embed;\n",
       "    white-space: pre-wrap;\n",
       "    word-wrap: break-word;\n",
       "    word-break: break-all;\n",
       "    font-family: \"Source Code Pro\", \"Menlo\", monospace;;\n",
       "    font-size: 13px;\n",
       "    color: #555;\n",
       "    margin-left: 4px;\n",
       "    line-height: 19px;\n",
       "  }\n",
       "</style>\n",
       "<div class=\"ansiout\">202\n",
       "[(&apos;08/03/2014&apos;, [&apos;Saturday&apos;, &apos;35&apos;, &apos;2&apos;, u&apos;&quot;2014&quot;&apos;, u&apos;&quot;03&quot;&apos;, u&apos;&quot;08&quot;&apos;, u&apos;&quot;\\ufffd&quot;&apos;, u&apos;&quot;12.4&quot;&apos;, u&apos;&quot;&quot;&apos;, u&apos;&quot;-4.5&quot;&apos;, u&apos;&quot;&quot;&apos;, u&apos;&quot;4.0&quot;&apos;, u&apos;&quot;&quot;&apos;, u&apos;&quot;14.0&quot;&apos;, u&apos;&quot;&quot;&apos;, u&apos;&quot;0.0&quot;&apos;, u&apos;&quot;&quot;&apos;, u&apos;&quot;0.0&quot;&apos;, u&apos;&quot;&quot;&apos;, u&apos;&quot;0.0&quot;&apos;, u&apos;&quot;&quot;&apos;, u&apos;&quot;0.0&quot;&apos;, u&apos;&quot;&quot;&apos;, u&apos;&quot;1&quot;&apos;, u&apos;&quot;&quot;&apos;, u&apos;&quot;23&quot;&apos;, u&apos;&quot;&quot;&apos;, u&apos;&quot;59&quot;&apos;, u&apos;&quot;&quot;&apos;]), (&apos;31/03/2014&apos;, [&apos;Monday&apos;, &apos;38&apos;, &apos;7&apos;, u&apos;&quot;2014&quot;&apos;, u&apos;&quot;03&quot;&apos;, u&apos;&quot;31&quot;&apos;, u&apos;&quot;\\ufffd&quot;&apos;, u&apos;&quot;-9.4&quot;&apos;, u&apos;&quot;&quot;&apos;, u&apos;&quot;-14.7&quot;&apos;, u&apos;&quot;&quot;&apos;, u&apos;&quot;-12.1&quot;&apos;, u&apos;&quot;&quot;&apos;, u&apos;&quot;30.1&quot;&apos;, u&apos;&quot;&quot;&apos;, u&apos;&quot;0.0&quot;&apos;, u&apos;&quot;&quot;&apos;, u&apos;&quot;&quot;&apos;, u&apos;&quot;M&quot;&apos;, u&apos;&quot;1.2&quot;&apos;, u&apos;&quot;&quot;&apos;, u&apos;&quot;0.8&quot;&apos;, u&apos;&quot;&quot;&apos;, u&apos;&quot;10&quot;&apos;, u&apos;&quot;&quot;&apos;, u&apos;&quot;&quot;&apos;, u&apos;&quot;&quot;&apos;, u&apos;&quot;&lt;31&quot;&apos;, u&apos;&quot;&quot;&apos;]), (&apos;07/10/2013&apos;, [&apos;Monday&apos;, &apos;46&apos;, &apos;5&apos;, u&apos;&quot;2013&quot;&apos;, u&apos;&quot;10&quot;&apos;, u&apos;&quot;07&quot;&apos;, u&apos;&quot;\\ufffd&quot;&apos;, u&apos;&quot;17.9&quot;&apos;, u&apos;&quot;&quot;&apos;, u&apos;&quot;5.6&quot;&apos;, u&apos;&quot;&quot;&apos;, u&apos;&quot;11.8&quot;&apos;, u&apos;&quot;&quot;&apos;, u&apos;&quot;6.2&quot;&apos;, u&apos;&quot;&quot;&apos;, u&apos;&quot;0.0&quot;&apos;, u&apos;&quot;&quot;&apos;, u&apos;&quot;0.0&quot;&apos;, u&apos;&quot;&quot;&apos;, u&apos;&quot;0.0&quot;&apos;, u&apos;&quot;&quot;&apos;, u&apos;&quot;0.0&quot;&apos;, u&apos;&quot;&quot;&apos;, u&apos;&quot;&quot;&apos;, u&apos;&quot;&quot;&apos;, u&apos;&quot;28&quot;&apos;, u&apos;&quot;&quot;&apos;, u&apos;&quot;61&quot;&apos;, u&apos;&quot;&quot;&apos;]), (&apos;06/01/2014&apos;, [&apos;Monday&apos;, &apos;45&apos;, &apos;4&apos;, u&apos;&quot;2014&quot;&apos;, u&apos;&quot;01&quot;&apos;, u&apos;&quot;06&quot;&apos;, u&apos;&quot;\\ufffd&quot;&apos;, u&apos;&quot;3.4&quot;&apos;, u&apos;&quot;&quot;&apos;, u&apos;&quot;-14.8&quot;&apos;, u&apos;&quot;&quot;&apos;, u&apos;&quot;-5.7&quot;&apos;, u&apos;&quot;&quot;&apos;, u&apos;&quot;23.7&quot;&apos;, u&apos;&quot;&quot;&apos;, u&apos;&quot;0.0&quot;&apos;, u&apos;&quot;&quot;&apos;, u&apos;&quot;0.0&quot;&apos;, u&apos;&quot;&quot;&apos;, u&apos;&quot;0.0&quot;&apos;, u&apos;&quot;&quot;&apos;, u&apos;&quot;0.0&quot;&apos;, u&apos;&quot;&quot;&apos;, u&apos;&quot;10&quot;&apos;, u&apos;&quot;&quot;&apos;, u&apos;&quot;29&quot;&apos;, u&apos;&quot;&quot;&apos;, u&apos;&quot;33&quot;&apos;, u&apos;&quot;&quot;&apos;]), (&apos;26/11/2013&apos;, [&apos;Tuesday&apos;, &apos;44&apos;, &apos;6&apos;, u&apos;&quot;2013&quot;&apos;, u&apos;&quot;11&quot;&apos;, u&apos;&quot;26&quot;&apos;, u&apos;&quot;\\ufffd&quot;&apos;, u&apos;&quot;10.2&quot;&apos;, u&apos;&quot;&quot;&apos;, u&apos;&quot;-5.6&quot;&apos;, u&apos;&quot;&quot;&apos;, u&apos;&quot;2.3&quot;&apos;, u&apos;&quot;&quot;&apos;, u&apos;&quot;15.7&quot;&apos;, u&apos;&quot;&quot;&apos;, u&apos;&quot;0.0&quot;&apos;, u&apos;&quot;&quot;&apos;, u&apos;&quot;0.0&quot;&apos;, u&apos;&quot;&quot;&apos;, u&apos;&quot;0.0&quot;&apos;, u&apos;&quot;&quot;&apos;, u&apos;&quot;0.0&quot;&apos;, u&apos;&quot;&quot;&apos;, u&apos;&quot;0&quot;&apos;, u&apos;&quot;&quot;&apos;, u&apos;&quot;29&quot;&apos;, u&apos;&quot;&quot;&apos;, u&apos;&quot;43&quot;&apos;, u&apos;&quot;&quot;&apos;])]\n",
       "</div>"
      ]
     },
     "metadata": {},
     "output_type": "display_data"
    }
   ],
   "source": [
    "# TODO: Replace <FILL IN> with appropriate code\n",
    "# def combineValues(record):\n",
    "#   key, values = record\n",
    "#   v1, v2 = values\n",
    "#   v1 = list(v1)\n",
    "#   for v in v2:\n",
    "#     v1.append(v.strip('\"'))\n",
    "#   new_values = tuple(v1)\n",
    "#   new_tuple = (key, new_values)\n",
    "#   return new_tuple\n",
    "\n",
    "# combinedPairRDD = deerfootPairRDD.leftOuterJoin(desiredWeatherRDD).map(combineValues)\n",
    "# print combinedPairRDD.count()\n",
    "# print combinedPairRDD.take(5)\n",
    "combinedPairRDD = deerfootPairRDD.union(desiredWeatherRDD).reduceByKey(lambda x,y : x+y)\n",
    "print combinedPairRDD.count()\n",
    "print combinedPairRDD.take(5)"
   ]
  },
  {
   "cell_type": "markdown",
   "metadata": {},
   "source": [
    "#### ** (1f) Filter out weekends and unwanted weather fields to produce fina data for regression**\n",
    "#### Predicting commute times is more crucial for weekdays than for weekends, which have very light traffic.  So, we will exclude saturdays and sundays from the combined dataset.  We will also only consider using the number of accidents and the \"Snow on the ground\" fields of the combined dataset while building our predictive model.  While other fields, e.g., temperature, might also impact commute times, we will ignore them for the sake of simplicity.  As a result, we need to filter out the unwanted fields.  Use appropriate Spark transformations to produce an RDD whose each record has the format \"commute time, number of accidents, snow on the ground\". If the \"snow on the ground\" field is \"\", i.e., data was not logged that day, then assume that it is \"0\", i.e., assume that day had 0 snow on the ground."
   ]
  },
  {
   "cell_type": "code",
   "execution_count": 18,
   "metadata": {
    "scrolled": false
   },
   "outputs": [
    {
     "data": {
      "text/html": [
       "<style scoped>\n",
       "  .ansiout {\n",
       "    display: block;\n",
       "    unicode-bidi: embed;\n",
       "    white-space: pre-wrap;\n",
       "    word-wrap: break-word;\n",
       "    word-break: break-all;\n",
       "    font-family: \"Source Code Pro\", \"Menlo\", monospace;;\n",
       "    font-size: 13px;\n",
       "    color: #555;\n",
       "    margin-left: 4px;\n",
       "    line-height: 19px;\n",
       "  }\n",
       "</style>\n",
       "<div class=\"ansiout\">144\n",
       "[(&apos;31/03/2014&apos;, (&apos;38&apos;, &apos;7&apos;, &apos;10&apos;)), (&apos;07/10/2013&apos;, (&apos;46&apos;, &apos;5&apos;, &apos;0&apos;)), (&apos;06/01/2014&apos;, (&apos;45&apos;, &apos;4&apos;, &apos;10&apos;)), (&apos;26/11/2013&apos;, (&apos;44&apos;, &apos;6&apos;, &apos;0&apos;)), (&apos;03/02/2014&apos;, (&apos;40&apos;, &apos;5&apos;, &apos;0&apos;)), (&apos;17/12/2013&apos;, (&apos;87&apos;, &apos;5&apos;, &apos;14&apos;)), (&apos;10/12/2013&apos;, (&apos;97&apos;, &apos;13&apos;, &apos;21&apos;)), (&apos;31/01/2014&apos;, (&apos;43&apos;, &apos;4&apos;, &apos;5&apos;))]\n",
       "PythonRDD[766] at RDD at PythonRDD.scala:50\n",
       "</div>"
      ]
     },
     "metadata": {},
     "output_type": "display_data"
    }
   ],
   "source": [
    "# TODO: Replace <FILL IN> with appropriate code\n",
    "def filterWeekends(combinedPairRDDRecord):\n",
    "    \"\"\"Skips records corresponding to Saturdays and Sundays\n",
    "    Args:\n",
    "        combinedPairRDDRecord : key-value record where key is date and value is a tuple containing comma-separated string values from deerfootPairRDD and desiredWeatherRDD \n",
    "\n",
    "    Returns:\n",
    "        True if key is in the desired period; False otherwise\n",
    "    \"\"\"\n",
    "    dayOfTheWeek = combinedPairRDDRecord[1][0]\n",
    "    weekend = ['Sunday', 'Saturday']\n",
    "    if dayOfTheWeek in weekend:\n",
    "      return False\n",
    "    \n",
    "    return True\n",
    "    \n",
    "def extractRegressionData(combinedPairRDDWeekdaysRecord):\n",
    "    \"\"\"Outputs a string record with the format \"commute time,number of accidents, snow on ground\"\n",
    "    Args:\n",
    "        combinedPairRDDWeekdaysRecord: key-value record where key is date and value is a tuple containing comma-separated string values from deerfootPairRDD and desiredWeatherRDD \n",
    "    \n",
    "    Returns:\n",
    "        record with the format \"commute time,number of accidents, snow on ground\n",
    "    \"\"\"\n",
    "    commute_time = combinedPairRDDWeekdaysRecord[1][1]\n",
    "    number_of_accidents = combinedPairRDDWeekdaysRecord[1][2]\n",
    "    # snow on ground in column V \n",
    "    snow_on_ground = combinedPairRDDWeekdaysRecord[1][23].encode('utf-8').strip('\"')\n",
    "    if snow_on_ground == '':\n",
    "      snow_on_ground='0'\n",
    "    return (combinedPairRDDWeekdaysRecord[0], (commute_time,number_of_accidents,snow_on_ground))\n",
    "    \n",
    "\n",
    "combinedPairRDDWeekdays = combinedPairRDD.filter(filterWeekends)\n",
    "regressionDataRDD = combinedPairRDDWeekdays.map(extractRegressionData)\n",
    "print regressionDataRDD.count()\n",
    "print regressionDataRDD.take(8)\n",
    "print(combinedPairRDDWeekdays)"
   ]
  },
  {
   "cell_type": "markdown",
   "metadata": {},
   "source": [
    "#### ** (1g) Using `LabeledPoint` **\n",
    "#### We are now ready to use MLlib to do regression!  In MLlib, labeled training instances are stored using the [LabeledPoint](https://spark.apache.org/docs/latest/api/python/pyspark.mllib.html#pyspark.mllib.regression.LabeledPoint) object.  Write the parsePoint function that takes as input a raw data point in 'regressionDataRDD', parses it using Python's [unicode.split](https://docs.python.org/2/library/string.html#string.split) method, and returns a `LabeledPoint`.  Use this function to parse samplePoints (from the previous question).  Then print out the features and label for the first training point, using the `LabeledPoint.features` and `LabeledPoint.label` attributes. Finally, calculate the number features for this dataset."
   ]
  },
  {
   "cell_type": "code",
   "execution_count": 20,
   "metadata": {},
   "outputs": [
    {
     "data": {
      "text/html": [
       "<style scoped>\n",
       "  .ansiout {\n",
       "    display: block;\n",
       "    unicode-bidi: embed;\n",
       "    white-space: pre-wrap;\n",
       "    word-wrap: break-word;\n",
       "    word-break: break-all;\n",
       "    font-family: \"Source Code Pro\", \"Menlo\", monospace;;\n",
       "    font-size: 13px;\n",
       "    color: #555;\n",
       "    margin-left: 4px;\n",
       "    line-height: 19px;\n",
       "  }\n",
       "</style>\n",
       "<div class=\"ansiout\"></div>"
      ]
     },
     "metadata": {},
     "output_type": "display_data"
    }
   ],
   "source": [
    "from pyspark.mllib.regression import LabeledPoint\n",
    "import numpy as np,numpy\n",
    "# Here is a sample raw data point:\n",
    "# u'49,14,16'\n",
    "# In this raw data point, 49 is the label, and the remaining values are features"
   ]
  },
  {
   "cell_type": "code",
   "execution_count": 21,
   "metadata": {},
   "outputs": [
    {
     "data": {
      "text/html": [
       "<style scoped>\n",
       "  .ansiout {\n",
       "    display: block;\n",
       "    unicode-bidi: embed;\n",
       "    white-space: pre-wrap;\n",
       "    word-wrap: break-word;\n",
       "    word-break: break-all;\n",
       "    font-family: \"Source Code Pro\", \"Menlo\", monospace;;\n",
       "    font-size: 13px;\n",
       "    color: #555;\n",
       "    margin-left: 4px;\n",
       "    line-height: 19px;\n",
       "  }\n",
       "</style>\n",
       "<div class=\"ansiout\">[7.0,10.0] 38.0\n",
       "2\n",
       "</div>"
      ]
     },
     "metadata": {},
     "output_type": "display_data"
    }
   ],
   "source": [
    "# TODO: Replace <FILL IN> with appropriate code\n",
    "def parsePoint(line):\n",
    "    \"\"\"Converts a comma separated unicode string into a `LabeledPoint`.\n",
    "\n",
    "    Args:\n",
    "        line (unicode): Comma separated unicode string where the first element is the label and the\n",
    "            remaining elements are features.\n",
    "\n",
    "    Returns:\n",
    "        LabeledPoint: The line is converted into a `LabeledPoint`, which consists of a label and\n",
    "            features.\n",
    "    \"\"\"\n",
    "    return LabeledPoint(line[1][0], line[1][1:])\n",
    "\n",
    "    \n",
    "parsedSamplePointsRDD = regressionDataRDD.map(parsePoint)\n",
    "firstPoint = parsedSamplePointsRDD.take(1)\n",
    "firstPointFeatures = firstPoint[0].features\n",
    "firstPointLabel = firstPoint[0].label\n",
    "print firstPointFeatures, firstPointLabel\n",
    "# d contains the number of features\n",
    "d = len(firstPointFeatures)\n",
    "print d"
   ]
  },
  {
   "cell_type": "markdown",
   "metadata": {},
   "source": [
    "#### **(1h) Feature scaling **\n",
    "#### In learning problems, it is often necessary to \"scale\" features so that all features span nearly the same range.  One way to do this is to do (featureValue-meanOfFeatureValues)/standardDeviationOfFeatureValues.  For a given feature, the mean and standard deviation of its feature values are calculated.  Then, the mean is subtracted from each value and the result is then divided by the standard deviation. \n",
    "\n",
    "#### We will now do feature scaling for our dataset.  First implement a 'getNormalizedRDD' function that takes the RDD with non-scaled values and returns an RDD containing scaled features.  This function will first calculate the mean and standard deviations of the features in the non-scaled RDD.  It will then use a Spark transformation to scale each element of the non-scaled RDD.  This transformation should use the 'normalizeFeatures' closure listed below. Note that your implementation should generalize to any arbitrary number of features."
   ]
  },
  {
   "cell_type": "code",
   "execution_count": 23,
   "metadata": {},
   "outputs": [
    {
     "data": {
      "text/html": [
       "<style scoped>\n",
       "  .ansiout {\n",
       "    display: block;\n",
       "    unicode-bidi: embed;\n",
       "    white-space: pre-wrap;\n",
       "    word-wrap: break-word;\n",
       "    word-break: break-all;\n",
       "    font-family: \"Source Code Pro\", \"Menlo\", monospace;;\n",
       "    font-size: 13px;\n",
       "    color: #555;\n",
       "    margin-left: 4px;\n",
       "    line-height: 19px;\n",
       "  }\n",
       "</style>\n",
       "<div class=\"ansiout\">[LabeledPoint(38.0, [0.617577824593,1.11712952883]), LabeledPoint(46.0, [-0.0587051164061,-0.704689861337]), LabeledPoint(45.0, [-0.396846586905,1.11712952883]), LabeledPoint(44.0, [0.279436354093,-0.704689861337]), LabeledPoint(40.0, [-0.0587051164061,-0.704689861337])]\n",
       "</div>"
      ]
     },
     "metadata": {},
     "output_type": "display_data"
    }
   ],
   "source": [
    "from pyspark.mllib.stat import Statistics\n",
    "import math\n",
    "# TODO: Replace <FILL IN> with appropriate code\n",
    "features_mean = []\n",
    "features_stdev = []\n",
    "def normalizeFeatures(lp):\n",
    "    \"\"\"Normalizes features in the LabeledPoint object lp.\n",
    "\n",
    "    Args:\n",
    "        lp - LabeledPoint object \n",
    "\n",
    "    Returns:\n",
    "        LabeledPoint: The object contains the label and the normalized features\n",
    "    \"\"\"\n",
    "    normalized_features = []\n",
    "    for i, feature in enumerate(lp.features):\n",
    "      normalized_features.append((feature - features_mean[i])/features_stdev[i])\n",
    "    \n",
    "    return LabeledPoint(lp.label, normalized_features)\n",
    "    \n",
    "    \n",
    "def getNormalizedRDD(nonNormalizedRDD): \n",
    "    \"\"\"Normalizes the features of the LabeldPoints contained in nonNormalizedRDD.\n",
    "\n",
    "    Args:\n",
    "        nonNormalizedRDD - RDD containing non-normalized features \n",
    "\n",
    "    Returns:\n",
    "        returnRDD: RDD containing normalized features\n",
    "    \"\"\"\n",
    "    features = nonNormalizedRDD.map(lambda x: x.features)\n",
    "    features_summary = Statistics.colStats(features)\n",
    "    globals()['features_mean'] = features_summary.mean()\n",
    "    stdev = []\n",
    "    for i, var in enumerate(features_summary.variance()):\n",
    "      stdev.append(math.sqrt(features_summary.variance()[i]))\n",
    "    globals()['features_stdev'] = np.array(stdev)\n",
    "    \n",
    "    normalizedRDD = nonNormalizedRDD.map(lambda x: normalizeFeatures(x))\n",
    "    return normalizedRDD\n",
    "\n",
    "normalizedSamplePoints = getNormalizedRDD(parsedSamplePointsRDD)\n",
    "print normalizedSamplePoints.take(5)"
   ]
  },
  {
   "cell_type": "markdown",
   "metadata": {},
   "source": [
    "#### ** (1i) Training and validation sets **\n",
    "#### We're almost done parsing our dataset, and our final task involves split it into a training set and a validation set. Use the [randomSplit method](https://spark.apache.org/docs/latest/api/python/pyspark.html#pyspark.RDD.randomSplit) with the specified weights and seed to create RDDs storing each of these datasets. Next, cache each of these RDDs, as we will be accessing them multiple times in the remainder of this lab. Finally, compute the size of each dataset and verify that the sum of their sizes equals the value computed in Part (1f)."
   ]
  },
  {
   "cell_type": "code",
   "execution_count": 25,
   "metadata": {},
   "outputs": [
    {
     "data": {
      "text/html": [
       "<style scoped>\n",
       "  .ansiout {\n",
       "    display: block;\n",
       "    unicode-bidi: embed;\n",
       "    white-space: pre-wrap;\n",
       "    word-wrap: break-word;\n",
       "    word-break: break-all;\n",
       "    font-family: \"Source Code Pro\", \"Menlo\", monospace;;\n",
       "    font-size: 13px;\n",
       "    color: #555;\n",
       "    margin-left: 4px;\n",
       "    line-height: 19px;\n",
       "  }\n",
       "</style>\n",
       "<div class=\"ansiout\">113 31 144\n",
       "144\n",
       "[LabeledPoint(38.0, [0.617577824593,1.11712952883]), LabeledPoint(46.0, [-0.0587051164061,-0.704689861337])]\n",
       "</div>"
      ]
     },
     "metadata": {},
     "output_type": "display_data"
    }
   ],
   "source": [
    "# TODO: Replace <FILL IN> with appropriate code\n",
    "weights = [.8, .2]\n",
    "seed = 42\n",
    "parsedTrainData, parsedValData = normalizedSamplePoints.randomSplit(weights, seed)\n",
    "parsedTrainData.cache()\n",
    "parsedValData.cache()\n",
    "nTrain = parsedTrainData.count()\n",
    "nVal = parsedValData.count()\n",
    "\n",
    "print nTrain, nVal, nTrain + nVal\n",
    "print normalizedSamplePoints.count()\n",
    "print(parsedTrainData.take(2))"
   ]
  },
  {
   "cell_type": "markdown",
   "metadata": {},
   "source": [
    "### ** Part 2: Create and evaluate a baseline model **"
   ]
  },
  {
   "cell_type": "markdown",
   "metadata": {},
   "source": [
    "#### **(2a) Average label **\n",
    "#### A very simple yet natural baseline model is one where we always make the same prediction independent of the given data point, using the average label in the training set as the constant prediction value.  Compute this value, which is the average commute time for the training set.  Use an appropriate method in the [RDD API](https://spark.apache.org/docs/latest/api/python/pyspark.html#pyspark.RDD)."
   ]
  },
  {
   "cell_type": "code",
   "execution_count": 28,
   "metadata": {},
   "outputs": [
    {
     "data": {
      "text/html": [
       "<style scoped>\n",
       "  .ansiout {\n",
       "    display: block;\n",
       "    unicode-bidi: embed;\n",
       "    white-space: pre-wrap;\n",
       "    word-wrap: break-word;\n",
       "    word-break: break-all;\n",
       "    font-family: \"Source Code Pro\", \"Menlo\", monospace;;\n",
       "    font-size: 13px;\n",
       "    color: #555;\n",
       "    margin-left: 4px;\n",
       "    line-height: 19px;\n",
       "  }\n",
       "</style>\n",
       "<div class=\"ansiout\">44.6991150442\n",
       "</div>"
      ]
     },
     "metadata": {},
     "output_type": "display_data"
    }
   ],
   "source": [
    "# TODO: Replace <FILL IN> with appropriate code\n",
    "averageCommuteTime = parsedTrainData.map(lambda x: x.label).mean()\n",
    "\n",
    "print(averageCommuteTime)"
   ]
  },
  {
   "cell_type": "markdown",
   "metadata": {},
   "source": [
    "#### **(2b) Root mean squared error **\n",
    "#### We naturally would like to see how well this naive baseline performs.  We will use root mean squared error ([RMSE](http://en.wikipedia.org/wiki/Root-mean-square_deviation)) for evaluation purposes.  Implement a function to compute RMSE given an RDD of (label, prediction) tuples, and test out this function on an example."
   ]
  },
  {
   "cell_type": "code",
   "execution_count": 30,
   "metadata": {},
   "outputs": [
    {
     "data": {
      "text/html": [
       "<style scoped>\n",
       "  .ansiout {\n",
       "    display: block;\n",
       "    unicode-bidi: embed;\n",
       "    white-space: pre-wrap;\n",
       "    word-wrap: break-word;\n",
       "    word-break: break-all;\n",
       "    font-family: \"Source Code Pro\", \"Menlo\", monospace;;\n",
       "    font-size: 13px;\n",
       "    color: #555;\n",
       "    margin-left: 4px;\n",
       "    line-height: 19px;\n",
       "  }\n",
       "</style>\n",
       "<div class=\"ansiout\">1.29099444874\n",
       "</div>"
      ]
     },
     "metadata": {},
     "output_type": "display_data"
    }
   ],
   "source": [
    "# TODO: Replace <FILL IN> with appropriate code\n",
    "import math\n",
    "def squaredError(label, prediction):\n",
    "    \"\"\"Calculates the the squared error for a single prediction.\n",
    "\n",
    "    Args:\n",
    "        label (float): The correct value for this observation.\n",
    "        prediction (float): The predicted value for this observation.\n",
    "\n",
    "    Returns:\n",
    "        float: The difference between the `label` and `prediction` squared.\n",
    "    \"\"\"\n",
    "    difference = (label - prediction)\n",
    "    square_error = difference * difference\n",
    "    return square_error\n",
    "\n",
    "def calcRMSE(labelsAndPreds):\n",
    "    \"\"\"Calculates the root mean squared error for an `RDD` of (label, prediction) tuples.\n",
    "\n",
    "    Args:\n",
    "        labelsAndPred (RDD of (float, float)): An `RDD` consisting of (label, prediction) tuples.\n",
    "\n",
    "    Returns:\n",
    "        float: The square root of the mean of the squared errors.\n",
    "    \"\"\"\n",
    "    errorTotal = labelsAndPreds.map(lambda x: squaredError(x[0], x[1])).sum()\n",
    "    nRows = labelsAndPreds.count()\n",
    "    return math.sqrt(errorTotal / nRows)\n",
    "    return errorTotal\n",
    "  \n",
    "labelsAndPreds = sc.parallelize([(3., 1.), (1., 2.), (2., 2.)])\n",
    "exampleRMSE = calcRMSE(labelsAndPreds)\n",
    "print exampleRMSE"
   ]
  },
  {
   "cell_type": "markdown",
   "metadata": {},
   "source": [
    "#### **(2c) Training validation RMSE **\n",
    "#### Now let's calculate the training and validation RMSE of our baseline model. To do this, first create RDDs of (label, prediction) tuples for each dataset, and then call calcRMSE. Note that each RMSE can be interpreted as the average prediction error for the given dataset (in terms of commute time)."
   ]
  },
  {
   "cell_type": "code",
   "execution_count": 32,
   "metadata": {},
   "outputs": [
    {
     "data": {
      "text/html": [
       "<style scoped>\n",
       "  .ansiout {\n",
       "    display: block;\n",
       "    unicode-bidi: embed;\n",
       "    white-space: pre-wrap;\n",
       "    word-wrap: break-word;\n",
       "    word-break: break-all;\n",
       "    font-family: \"Source Code Pro\", \"Menlo\", monospace;;\n",
       "    font-size: 13px;\n",
       "    color: #555;\n",
       "    margin-left: 4px;\n",
       "    line-height: 19px;\n",
       "  }\n",
       "</style>\n",
       "<div class=\"ansiout\">Baseline Train RMSE = 9.602\n",
       "Baseline Validation RMSE = 5.098\n",
       "</div>"
      ]
     },
     "metadata": {},
     "output_type": "display_data"
    }
   ],
   "source": [
    "# TODO: Replace <FILL IN> with appropriate code\n",
    "labelsAndPredsTrain = parsedTrainData.map(lambda x: (x.label, averageCommuteTime))\n",
    "rmseTrainBase = calcRMSE(labelsAndPredsTrain)\n",
    "labelsAndPredsVal = parsedValData.map(lambda x: (x.label, averageCommuteTime))\n",
    "rmseValBase = calcRMSE(labelsAndPredsVal)\n",
    "print 'Baseline Train RMSE = {0:.3f}'.format(rmseTrainBase)\n",
    "print 'Baseline Validation RMSE = {0:.3f}'.format(rmseValBase)"
   ]
  },
  {
   "cell_type": "markdown",
   "metadata": {},
   "source": [
    "### ** Part 3: Train linear regression models using MLlib  **"
   ]
  },
  {
   "cell_type": "markdown",
   "metadata": {},
   "source": [
    "#### **(3a) `LinearRegressionWithSGD` **\n",
    "#### MLlib's [LinearRegressionWithSGD](https://spark.apache.org/docs/latest/api/python/pyspark.mllib.html#pyspark.mllib.regression.LinearRegressionWithSGD) implements linear regression with advanced functionality, such as stochastic gradient approximation and allowing both L1 or L2 regularization.  First use LinearRegressionWithSGD to train a model with L2 regularization and with an intercept.  This method returns a [LinearRegressionModel](https://spark.apache.org/docs/latest/api/python/pyspark.mllib.html#pyspark.mllib.regression.LinearRegressionModel).  Next, use the model's [weights](http://spark.apache.org/docs/latest/api/python/pyspark.mllib.html#pyspark.mllib.regression.LinearRegressionModel.weights) and [intercept](http://spark.apache.org/docs/latest/api/python/pyspark.mllib.html#pyspark.mllib.regression.LinearRegressionModel.intercept) attributes to print out the model's parameters."
   ]
  },
  {
   "cell_type": "code",
   "execution_count": 35,
   "metadata": {},
   "outputs": [
    {
     "data": {
      "text/html": [
       "<style scoped>\n",
       "  .ansiout {\n",
       "    display: block;\n",
       "    unicode-bidi: embed;\n",
       "    white-space: pre-wrap;\n",
       "    word-wrap: break-word;\n",
       "    word-break: break-all;\n",
       "    font-family: \"Source Code Pro\", \"Menlo\", monospace;;\n",
       "    font-size: 13px;\n",
       "    color: #555;\n",
       "    margin-left: 4px;\n",
       "    line-height: 19px;\n",
       "  }\n",
       "</style>\n",
       "<div class=\"ansiout\"></div>"
      ]
     },
     "metadata": {},
     "output_type": "display_data"
    }
   ],
   "source": [
    "from pyspark.mllib.linalg import DenseVector\n",
    "from pyspark.mllib.regression import LinearRegressionWithSGD\n",
    "# Values to use when training the linear regression model\n",
    "numIters = 500  # iterations\n",
    "alpha = 1.0  # step\n",
    "miniBatchFrac = 1.0  # miniBatchFraction\n",
    "reg = 1e-1  # regParam\n",
    "regType = 'l2'  # regType\n",
    "useIntercept = True  # intercept"
   ]
  },
  {
   "cell_type": "code",
   "execution_count": 36,
   "metadata": {},
   "outputs": [
    {
     "data": {
      "text/html": [
       "<style scoped>\n",
       "  .ansiout {\n",
       "    display: block;\n",
       "    unicode-bidi: embed;\n",
       "    white-space: pre-wrap;\n",
       "    word-wrap: break-word;\n",
       "    word-break: break-all;\n",
       "    font-family: \"Source Code Pro\", \"Menlo\", monospace;;\n",
       "    font-size: 13px;\n",
       "    color: #555;\n",
       "    margin-left: 4px;\n",
       "    line-height: 19px;\n",
       "  }\n",
       "</style>\n",
       "<div class=\"ansiout\">[2.9669810821,1.701407337] 40.6023633329\n",
       "</div>"
      ]
     },
     "metadata": {},
     "output_type": "display_data"
    }
   ],
   "source": [
    "# TODO: Replace <FILL IN> with appropriate code\n",
    "firstModel = LinearRegressionWithSGD.train(parsedTrainData, iterations=numIters, step=alpha, miniBatchFraction=miniBatchFrac, regParam=reg, regType=regType, intercept=useIntercept)\n",
    "# weightsLR1 stores the model weights; interceptLR1 stores the model intercept\n",
    "weightsLR1 =  firstModel.weights\n",
    "interceptLR1 =  firstModel.intercept\n",
    "print weightsLR1, interceptLR1"
   ]
  },
  {
   "cell_type": "markdown",
   "metadata": {},
   "source": [
    "#### **(3b) Predict**\n",
    "#### Now use the [LinearRegressionModel.predict()](http://spark.apache.org/docs/latest/api/python/pyspark.mllib.html#pyspark.mllib.regression.LinearRegressionModel.predict) method to make a prediction on a sample point.  Pass the `features` from a `LabeledPoint` into the `predict()` method."
   ]
  },
  {
   "cell_type": "code",
   "execution_count": 38,
   "metadata": {},
   "outputs": [
    {
     "data": {
      "text/html": [
       "<style scoped>\n",
       "  .ansiout {\n",
       "    display: block;\n",
       "    unicode-bidi: embed;\n",
       "    white-space: pre-wrap;\n",
       "    word-wrap: break-word;\n",
       "    word-break: break-all;\n",
       "    font-family: \"Source Code Pro\", \"Menlo\", monospace;;\n",
       "    font-size: 13px;\n",
       "    color: #555;\n",
       "    margin-left: 4px;\n",
       "    line-height: 19px;\n",
       "  }\n",
       "</style>\n",
       "<div class=\"ansiout\">44.3353974319\n",
       "</div>"
      ]
     },
     "metadata": {},
     "output_type": "display_data"
    }
   ],
   "source": [
    "from pyspark.mllib.regression import LinearRegressionModel\n",
    "# TODO: Replace <FILL IN> with appropriate code\n",
    "samplePoint = parsedTrainData.take(1)[0]\n",
    "samplePrediction = firstModel.predict(samplePoint.features)\n",
    "print(samplePrediction)"
   ]
  },
  {
   "cell_type": "markdown",
   "metadata": {},
   "source": [
    "#### ** (3c) Evaluate RMSE **\n",
    "#### Next evaluate the accuracy of this model on the validation set.  Use the `predict()` method to create a `labelsAndPreds` RDD, and then use the `calcRMSE()` function from Part (2b)."
   ]
  },
  {
   "cell_type": "code",
   "execution_count": 40,
   "metadata": {},
   "outputs": [
    {
     "data": {
      "text/html": [
       "<style scoped>\n",
       "  .ansiout {\n",
       "    display: block;\n",
       "    unicode-bidi: embed;\n",
       "    white-space: pre-wrap;\n",
       "    word-wrap: break-word;\n",
       "    word-break: break-all;\n",
       "    font-family: \"Source Code Pro\", \"Menlo\", monospace;;\n",
       "    font-size: 13px;\n",
       "    color: #555;\n",
       "    margin-left: 4px;\n",
       "    line-height: 19px;\n",
       "  }\n",
       "</style>\n",
       "<div class=\"ansiout\">5.0975954081\n",
       "5.61574914093\n",
       "</div>"
      ]
     },
     "metadata": {},
     "output_type": "display_data"
    }
   ],
   "source": [
    "# TODO: Replace <FILL IN> with appropriate code\n",
    "labelsAndPreds = parsedValData.map(lambda x: (averageCommuteTime, firstModel.predict(x.features)))\n",
    "rmseValLR1 = calcRMSE(labelsAndPreds)\n",
    "\n",
    "print rmseValBase\n",
    "print rmseValLR1"
   ]
  },
  {
   "cell_type": "markdown",
   "metadata": {},
   "source": [
    "#### ** (3d) Trying a 2nd order model **\n",
    "#### The linear model is already outperforming the baseline on the validation set by more than a minute on average, but let's see if we can do better. Let's see if a 2nd order model will lead to better predictions. A 2nd order model will have as features [num of accidents, snoOnGround, (num of accidents)^2, (snoOnGround)^2,(num of accidents * snoOnGround)].  First, we will use a Spark transformation to convert the 'parsedSamplePoints' RDD to an RDD that has LabeledPoint objects for the 2nd order modelling. Next, we will scale the features of 2nd order RDD."
   ]
  },
  {
   "cell_type": "code",
   "execution_count": 42,
   "metadata": {},
   "outputs": [
    {
     "data": {
      "text/html": [
       "<style scoped>\n",
       "  .ansiout {\n",
       "    display: block;\n",
       "    unicode-bidi: embed;\n",
       "    white-space: pre-wrap;\n",
       "    word-wrap: break-word;\n",
       "    word-break: break-all;\n",
       "    font-family: \"Source Code Pro\", \"Menlo\", monospace;;\n",
       "    font-size: 13px;\n",
       "    color: #555;\n",
       "    margin-left: 4px;\n",
       "    line-height: 19px;\n",
       "  }\n",
       "</style>\n",
       "<div class=\"ansiout\">[LabeledPoint(38.0, [7.0,10.0,49.0,100.0,70.0]), LabeledPoint(46.0, [5.0,0.0,25.0,0.0,0.0])]\n",
       "[LabeledPoint(38.0, [0.617577824593,1.11712952883,0.342259698607,0.55785086398,1.05651044856]), LabeledPoint(46.0, [-0.0587051164061,-0.704689861337,-0.264018885907,-0.45425099331,-0.531563712113])]\n",
       "</div>"
      ]
     },
     "metadata": {},
     "output_type": "display_data"
    }
   ],
   "source": [
    "# TODO: Replace <FILL IN> with appropriate code\n",
    "def transformOrderTwo(lp):\n",
    "    \"\"\"Transforms the features in the LabeledPoint object lp into higher order features.\n",
    "\n",
    "    Args:\n",
    "        lp - LabeledPoint object \n",
    "\n",
    "    Returns:\n",
    "        LabeledPoint: The object contains the label and the higher order features\n",
    "    \"\"\"\n",
    "    features = lp.features\n",
    "    numOfAccidents = features[0]\n",
    "    snoOnGround = features[1]\n",
    "    newFeatures = [numOfAccidents, snoOnGround, numOfAccidents * numOfAccidents, snoOnGround * snoOnGround, numOfAccidents * snoOnGround]\n",
    "    label = lp.label\n",
    "    return LabeledPoint(label, newFeatures)\n",
    "\n",
    "orderTwoParsedSamplePoints = parsedSamplePoints.map(lambda x: transformOrderTwo(x)) \n",
    "print orderTwoParsedSamplePoints.take(2)\n",
    "normalizedOrderTwoSamplePoints = getNormalizedRDD(orderTwoParsedSamplePoints)\n",
    "print normalizedOrderTwoSamplePoints.take(2)"
   ]
  },
  {
   "cell_type": "markdown",
   "metadata": {},
   "source": [
    "#### ** (3e) Creating training and validation sets for 2nd order model **\n",
    "#### Follow the procedure in 1(i) to create a training and validation set for the 2nd order model"
   ]
  },
  {
   "cell_type": "code",
   "execution_count": 44,
   "metadata": {},
   "outputs": [
    {
     "data": {
      "text/html": [
       "<style scoped>\n",
       "  .ansiout {\n",
       "    display: block;\n",
       "    unicode-bidi: embed;\n",
       "    white-space: pre-wrap;\n",
       "    word-wrap: break-word;\n",
       "    word-break: break-all;\n",
       "    font-family: \"Source Code Pro\", \"Menlo\", monospace;;\n",
       "    font-size: 13px;\n",
       "    color: #555;\n",
       "    margin-left: 4px;\n",
       "    line-height: 19px;\n",
       "  }\n",
       "</style>\n",
       "<div class=\"ansiout\">113 31 144\n",
       "144\n",
       "[LabeledPoint(38.0, [0.617577824593,1.11712952883,0.342259698607,0.55785086398,1.05651044856]), LabeledPoint(46.0, [-0.0587051164061,-0.704689861337,-0.264018885907,-0.45425099331,-0.531563712113])]\n",
       "</div>"
      ]
     },
     "metadata": {},
     "output_type": "display_data"
    }
   ],
   "source": [
    "# TODO: Replace <FILL IN> with appropriate code\n",
    "weights = [.8, .2]\n",
    "seed = 42\n",
    "parsedTrainDataOrderTwo, parsedValDataOrderTwo = normalizedOrderTwoSamplePoints.randomSplit(weights, seed)\n",
    "\n",
    "parsedTrainDataOrderTwo.cache()\n",
    "parsedValDataOrderTwo.cache()\n",
    "\n",
    "nTrain = parsedTrainDataOrderTwo.count()\n",
    "nVal = parsedValDataOrderTwo.count()\n",
    "\n",
    "print nTrain, nVal, nTrain + nVal\n",
    "print normalizedOrderTwoSamplePoints.count()\n",
    "print(parsedTrainDataOrderTwo.take(2))"
   ]
  },
  {
   "cell_type": "markdown",
   "metadata": {},
   "source": [
    "#### ** (3f) Train the 2nd order model using the training set **"
   ]
  },
  {
   "cell_type": "code",
   "execution_count": 46,
   "metadata": {},
   "outputs": [
    {
     "data": {
      "text/html": [
       "<style scoped>\n",
       "  .ansiout {\n",
       "    display: block;\n",
       "    unicode-bidi: embed;\n",
       "    white-space: pre-wrap;\n",
       "    word-wrap: break-word;\n",
       "    word-break: break-all;\n",
       "    font-family: \"Source Code Pro\", \"Menlo\", monospace;;\n",
       "    font-size: 13px;\n",
       "    color: #555;\n",
       "    margin-left: 4px;\n",
       "    line-height: 19px;\n",
       "  }\n",
       "</style>\n",
       "<div class=\"ansiout\">[1.31260584485,-0.748649332752,1.12718117588,1.80301308414,1.61826486581] 40.6185370778\n",
       "</div>"
      ]
     },
     "metadata": {},
     "output_type": "display_data"
    }
   ],
   "source": [
    "# TODO: Replace <FILL IN> with appropriate code\n",
    "secondModel = LinearRegressionWithSGD.train(parsedTrainDataOrderTwo, iterations=numIters, step=alpha, miniBatchFraction=miniBatchFrac, regParam=reg, regType=regType, intercept=useIntercept)\n",
    "# weightsLR1 stores the model weights; interceptLR1 stores the model intercept\n",
    "weightsLR2 = secondModel.weights\n",
    "interceptLR2 =  secondModel.intercept\n",
    "print weightsLR2, interceptLR2"
   ]
  },
  {
   "cell_type": "markdown",
   "metadata": {},
   "source": [
    "#### ** (3g) Evaluate RMSE of 2nd order model **\n",
    "#### This is similar to what you did in 3(c)."
   ]
  },
  {
   "cell_type": "code",
   "execution_count": 48,
   "metadata": {},
   "outputs": [
    {
     "data": {
      "text/html": [
       "<style scoped>\n",
       "  .ansiout {\n",
       "    display: block;\n",
       "    unicode-bidi: embed;\n",
       "    white-space: pre-wrap;\n",
       "    word-wrap: break-word;\n",
       "    word-break: break-all;\n",
       "    font-family: \"Source Code Pro\", \"Menlo\", monospace;;\n",
       "    font-size: 13px;\n",
       "    color: #555;\n",
       "    margin-left: 4px;\n",
       "    line-height: 19px;\n",
       "  }\n",
       "</style>\n",
       "<div class=\"ansiout\">5.0975954081\n",
       "5.61574914093\n",
       "5.86768725766\n",
       "</div>"
      ]
     },
     "metadata": {},
     "output_type": "display_data"
    }
   ],
   "source": [
    "# TODO: Replace <FILL IN> with appropriate code\n",
    "labelsAndPredsOrderTwo = parsedValDataOrderTwo.map(lambda x: (averageCommuteTime, secondModel.predict(x.features)))\n",
    "rmseValLR2 = calcRMSE(labelsAndPredsOrderTwo)\n",
    "\n",
    "print rmseValBase\n",
    "print rmseValLR1\n",
    "print rmseValLR2"
   ]
  },
  {
   "cell_type": "markdown",
   "metadata": {},
   "source": [
    "#### ** Conclusions**\n",
    "#### You would have noticed a slight improvement in accuracy with the 2nd order model from the 1st order model. To get further improvements we could try a few other things such as using an even higher level model, using more features from the commute time and weather data, and using more data.  We could also use more advaned regression techniques supported by MLlib such as ridge regression.  These are left as future exercises that you can try on your own.\n",
    "\n",
    "#### To finish things off, here is a plot that compares the actual commute times to those predicted by our best model.  This is basically a a color-coded scatter plot visualizing tuples storing i) the predicted value from this model and ii) true label.  Lighter colour predictions represent lower errors while the red ones represent large errors."
   ]
  },
  {
   "cell_type": "code",
   "execution_count": 50,
   "metadata": {},
   "outputs": [
    {
     "data": {
      "image/png": "[encoded data removed]"
     },
     "metadata": {},
     "output_type": "display_data"
    }
   ],
   "source": [
    "import matplotlib\n",
    "# force Agg\n",
    "matplotlib.use('Agg')\n",
    "from IPython.display import Image\n",
    "import matplotlib.pyplot as plt\n",
    "import matplotlib.cm as cm\n",
    "from matplotlib.colors import ListedColormap, Normalize\n",
    "from matplotlib.cm import get_cmap\n",
    "%matplotlib inline\n",
    "\n",
    "cmap = get_cmap('YlOrRd')\n",
    "\n",
    "def preparePlot(xticks, yticks, figsize=(10.5, 6), hideLabels=False, gridColor='#999999',\n",
    "                gridWidth=1.0):\n",
    "    \"\"\"Template for generating the plot layout.\"\"\"\n",
    "    plt.close()\n",
    "    fig, ax = plt.subplots(figsize=figsize, facecolor='white', edgecolor='white')\n",
    "    ax.axes.tick_params(labelcolor='#999999', labelsize='10')\n",
    "    for axis, ticks in [(ax.get_xaxis(), xticks), (ax.get_yaxis(), yticks)]:\n",
    "        axis.set_ticks_position('none')\n",
    "        axis.set_ticks(ticks)\n",
    "        axis.label.set_color('#999999')\n",
    "        if hideLabels: axis.set_ticklabels([])\n",
    "    plt.grid(color=gridColor, linewidth=gridWidth, linestyle='-')\n",
    "    map(lambda position: ax.spines[position].set_visible(False), ['bottom', 'top', 'left', 'right'])\n",
    "    return fig, ax\n",
    "\n",
    "predictions = np.asarray(parsedValDataOrderTwo\n",
    "                         .map(lambda lp: secondModel.predict(lp.features))\n",
    "                         .collect())\n",
    "actual = np.asarray(parsedValDataOrderTwo\n",
    "                    .map(lambda lp: lp.label)\n",
    "                    .collect())\n",
    "error = np.asarray(parsedValDataOrderTwo\n",
    "                   .map(lambda lp: (lp.label, secondModel.predict(lp.features)))\n",
    "                   .map(lambda (l, p): squaredError(l, p))\n",
    "                   .collect())\n",
    "\n",
    "norm = Normalize()\n",
    "clrs = cmap(np.asarray(norm(error)))[:,0:3]\n",
    "\n",
    "fig, ax = preparePlot(np.arange(0, 120, 20), np.arange(0, 120, 20))\n",
    "ax.set_xlim(20, 60), ax.set_ylim(20, 100)\n",
    "plt.scatter(predictions, actual, s=14**2, c=clrs, edgecolors='#888888', alpha=0.75, linewidths=.5)\n",
    "ax.set_xlabel('Predicted'), ax.set_ylabel(r'Actual')\n",
    "pass\n",
    "fig.savefig('temp.png')\n",
    "Image(filename='temp.png')\n",
    "display()"
   ]
  }
 ],
 "metadata": {
  "kernelspec": {
   "display_name": "Python 3",
   "language": "python",
   "name": "python3"
  },
  "language_info": {
   "codemirror_mode": {
    "name": "ipython",
    "version": 3
   },
   "file_extension": ".py",
   "mimetype": "text/x-python",
   "name": "python",
   "nbconvert_exporter": "python",
   "pygments_lexer": "ipython3",
   "version": "3.7.4"
  },
  "name": "SENG501_Spark_Project_2",
  "notebookId": 4171625512288149
 },
 "nbformat": 4,
 "nbformat_minor": 1
}
